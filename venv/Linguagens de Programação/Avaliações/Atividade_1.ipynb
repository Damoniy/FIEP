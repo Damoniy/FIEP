{
 "nbformat": 4,
 "nbformat_minor": 0,
 "metadata": {
  "colab": {
   "provenance": []
  },
  "kernelspec": {
   "name": "python3",
   "display_name": "Python 3 (ipykernel)",
   "language": "python"
  },
  "language_info": {
   "name": "python"
  }
 },
 "cells": [
  {
   "cell_type": "markdown",
   "source": [
    "### **Atividade com Nota**\n",
    "Link de envio:\n",
    "https://forms.gle/rEGR8vXj365VcV628"
   ],
   "metadata": {
    "id": "cXC4WikDkE8r"
   }
  },
  {
   "cell_type": "markdown",
   "source": [
    "#### Exercício 1: Análise de Dados de Vendas\n",
    "\n",
    "- Você recebeu os dados de vendas de uma loja durante um mês;\n",
    "- Eles estão organizados em uma lista de tuplas, onde cada tupla contém o **nome do produto**, a **quantidade vendida** e o **valor total da venda**. Você deve realizar uma análise utilizando listas, compreensão de listas, `itertools`, dicionários e conjuntos.\n",
    "\n",
    "#### Dados fornecidos:\n",
    "```python\n",
    "vendas = [\n",
    "    ('Camiseta', 10, 200),\n",
    "    ('Calça', 5, 250),\n",
    "    ('Jaqueta', 2, 300),\n",
    "    ('Camiseta', 7, 140),\n",
    "    ('Calça', 3, 150),\n",
    "    ('Boné', 4, 80),\n",
    "    ('Jaqueta', 1, 150),\n",
    "    ('Camiseta', 8, 160),\n",
    "    ('Boné', 3, 60),\n",
    "]\n",
    "```\n",
    "\n",
    "#### Tarefas:\n",
    "\n",
    "1. **Listas e Compreensão de Listas**:\n",
    "   - Crie uma nova lista contendo apenas os produtos únicos vendidos (sem repetições). Use uma compreensão de lista e um conjunto (`set`) para garantir que não haja duplicatas.\n",
    "\n",
    "2. **itertools**:\n",
    "   - Use `itertools` para agrupar as vendas por produto e somar a quantidade total vendida para cada produto.\n",
    "\n",
    "3. **Dicionários**:\n",
    "   - Crie um dicionário onde as chaves são os produtos e os valores são listas que contêm a quantidade total vendida e o valor total de vendas de cada produto.\n",
    "\n",
    "4. **Conjuntos**:\n",
    "   - Crie dois conjuntos: um contendo os produtos vendidos com mais de 20 unidades e outro contendo os produtos que geraram um valor total de vendas superior a 500.\n",
    "\n"
   ],
   "metadata": {
    "id": "e9QTLDi29NKd"
   }
  },
  {
   "metadata": {},
   "cell_type": "markdown",
   "source": "### Respostas"
  },
  {
   "metadata": {
    "ExecuteTime": {
     "end_time": "2024-11-07T22:23:06.021128Z",
     "start_time": "2024-11-07T22:23:06.004320Z"
    }
   },
   "cell_type": "code",
   "source": [
    "# Tarefa 1\n",
    "vendas = [\n",
    "    ('Camiseta', 10, 200),\n",
    "    ('Calça', 5, 250),\n",
    "    ('Jaqueta', 2, 300),\n",
    "    ('Camiseta', 7, 140),\n",
    "    ('Calça', 3, 150),\n",
    "    ('Boné', 4, 80),\n",
    "    ('Jaqueta', 1, 150),\n",
    "    ('Camiseta', 8, 160),\n",
    "    ('Boné', 3, 60),\n",
    "]\n",
    "\n",
    "def remover_duplicatas_produtos(lista):\n",
    "    return set([item[0] for item in lista])\n",
    "\n",
    "print(remover_duplicatas_produtos(vendas))"
   ],
   "outputs": [
    {
     "name": "stdout",
     "output_type": "stream",
     "text": [
      "{'Boné', 'Jaqueta', 'Calça', 'Camiseta'}\n"
     ]
    }
   ],
   "execution_count": 1
  },
  {
   "metadata": {
    "ExecuteTime": {
     "end_time": "2024-11-08T00:20:36.602042Z",
     "start_time": "2024-11-08T00:20:36.592100Z"
    }
   },
   "cell_type": "code",
   "source": [
    "# Tarefa 2\n",
    "from itertools import groupby\n",
    "from operator import itemgetter\n",
    "\n",
    "def contar_produtos(vendas):\n",
    "    resultados = {}\n",
    "    vendas.sort(key=itemgetter(0))\n",
    "\n",
    "    for produto, grupo in groupby(vendas, key=itemgetter(0)):\n",
    "        quantidade = sum(quantidade for _, quantidade, _ in grupo)\n",
    "        resultados[produto] = quantidade\n",
    "    return resultados\n",
    "\n",
    "print(contar_produtos(vendas))"
   ],
   "outputs": [
    {
     "name": "stdout",
     "output_type": "stream",
     "text": [
      "{'Boné': 7, 'Calça': 8, 'Camiseta': 25, 'Jaqueta': 3}\n"
     ]
    }
   ],
   "execution_count": 233
  },
  {
   "metadata": {
    "ExecuteTime": {
     "end_time": "2024-11-07T22:37:39.236806Z",
     "start_time": "2024-11-07T22:37:39.225959Z"
    }
   },
   "cell_type": "code",
   "source": [
    "# Tarefa 3\n",
    "from itertools import groupby\n",
    "\n",
    "vendas = [\n",
    "    ('Camiseta', 10, 200),\n",
    "    ('Calça', 5, 250),\n",
    "    ('Jaqueta', 2, 300),\n",
    "    ('Camiseta', 7, 140),\n",
    "    ('Calça', 3, 150),\n",
    "    ('Boné', 4, 80),\n",
    "    ('Jaqueta', 1, 150),\n",
    "    ('Camiseta', 8, 160),\n",
    "    ('Boné', 3, 60)\n",
    "]\n",
    "\n",
    "vendas.sort(key=lambda x: x[0])\n",
    "\n",
    "agrupamento_itens = {}\n",
    "for produto, grupo in groupby(vendas, itemgetter(0)):\n",
    "    lista_grupo = list(grupo)\n",
    "    quantidade_total = sum(quantidade for _, quantidade, _ in lista_grupo)\n",
    "    custo_total = sum(custo for _, _, custo in lista_grupo)\n",
    "    agrupamento_itens[produto] = [quantidade_total, custo_total]\n",
    "\n",
    "print(agrupamento_itens)"
   ],
   "outputs": [
    {
     "name": "stdout",
     "output_type": "stream",
     "text": [
      "{'Boné': [7, 140], 'Calça': [8, 400], 'Camiseta': [25, 500], 'Jaqueta': [3, 450]}\n"
     ]
    }
   ],
   "execution_count": 36
  },
  {
   "metadata": {
    "ExecuteTime": {
     "end_time": "2024-11-08T00:15:09.447373Z",
     "start_time": "2024-11-08T00:15:09.437485Z"
    }
   },
   "cell_type": "code",
   "source": [
    "# Tarefa 5\n",
    "from itertools import groupby\n",
    "from operator import itemgetter\n",
    "\n",
    "vendas = [\n",
    "    ('Camiseta', 10, 200),\n",
    "    ('Calça', 5, 250),\n",
    "    ('Jaqueta', 2, 300),\n",
    "    ('Camiseta', 7, 140),\n",
    "    ('Calça', 3, 150),\n",
    "    ('Boné', 4, 80),\n",
    "    ('Jaqueta', 1, 150),\n",
    "    ('Camiseta', 8, 160),\n",
    "    ('Boné', 3, 60)\n",
    "]\n",
    "\n",
    "produtos = [{'produto': produto, 'quantidade': quantidade, 'valor': valor} for produto, quantidade, valor in vendas]\n",
    "agrupamentos = []\n",
    "produtos_filtrados = []\n",
    "\n",
    "produtos.sort(key=itemgetter('produto'))\n",
    "\n",
    "for produto, grupo in groupby(produtos, key=itemgetter('produto')):\n",
    "    grupo = list(grupo)\n",
    "    total_quantidade = sum(item['quantidade'] for item in grupo)\n",
    "    total_valor = sum(item['valor'] for item in grupo)\n",
    "    agrupamentos.append({'produto': produto, 'quantidade': total_quantidade, 'valor': total_valor})\n",
    "    \n",
    "produtos_filtrados = [item['produto'] for item in agrupamentos if item['quantidade'] > 20]\n",
    "print('Produtos com mais de 20 unidades vendidas: {',', '.join(produtos_filtrados), '}')\n",
    "\n",
    "produtos_filtrados = [item['produto'] for item in agrupamentos if item['valor'] > 500]\n",
    "\n",
    "# *** Não tem nenhum item que atenda a condição de mais de quinentas unidades monetárias em venda ***\n",
    "print('Produtos com mais de 500 em vendas totais: {',', '.join(produtos_filtrados), '}')"
   ],
   "outputs": [
    {
     "name": "stdout",
     "output_type": "stream",
     "text": [
      "Produtos com mais de 20 unidades vendidas: { Camiseta }\n",
      "Produtos com mais de 500 em vendas totais: {  }\n"
     ]
    }
   ],
   "execution_count": 232
  },
  {
   "cell_type": "markdown",
   "source": [
    "#### Exemplo de Saída Esperada:"
   ],
   "metadata": {
    "id": "IyWvWpmJ9wEJ"
   }
  },
  {
   "cell_type": "code",
   "source": [
    "# Produtos únicos vendidos\n",
    "['Camiseta', 'Calça', 'Jaqueta', 'Boné']\n",
    "\n",
    "# Quantidade total vendida por produto\n",
    "{'Camiseta': 25, 'Calça': 8, 'Jaqueta': 3, 'Boné': 7}\n",
    "\n",
    "# Dicionário com quantidade e valor total de vendas por produto\n",
    "{'Camiseta': [25, 500], 'Calça': [8, 400], 'Jaqueta': [3, 450], 'Boné': [7, 140]}\n",
    "\n",
    "# Conjuntos de produtos com mais de 20 unidades vendidas e mais de 500 em vendas totais\n",
    "\"Produtos com mais de 20 unidades vendidas: {'Camiseta'}\"\n",
    "\"Produtos com mais de 500 em vendas totais: {'Camiseta', 'Jaqueta'}\""
   ],
   "metadata": {
    "id": "hJSSRdZ19rcl",
    "ExecuteTime": {
     "end_time": "2024-11-08T00:22:05.058252Z",
     "start_time": "2024-11-08T00:22:05.034194Z"
    }
   },
   "outputs": [
    {
     "data": {
      "text/plain": [
       "\"Produtos com mais de 500 em vendas totais: {'Camiseta', 'Jaqueta'}\""
      ]
     },
     "execution_count": 234,
     "metadata": {},
     "output_type": "execute_result"
    }
   ],
   "execution_count": 234
  },
  {
   "cell_type": "markdown",
   "source": [],
   "metadata": {
    "id": "SuHsBb9hjHzP"
   }
  },
  {
   "cell_type": "markdown",
   "source": [
    "### Exercício 2: Análise de Dados de Alunos\n",
    "\n",
    "Você tem uma lista com registros de alunos, onde cada registro contém o nome do aluno, a disciplina e a nota final que ele obteve. Você precisa processar esses dados para extrair informações específicas e responder a algumas perguntas sobre o desempenho dos alunos.\n",
    "\n"
   ],
   "metadata": {
    "id": "61JcTLEujIVM"
   }
  },
  {
   "cell_type": "code",
   "source": [
    "#### Dados fornecidos:\n",
    "alunos = [\n",
    "    ('Alice', 'Matemática', 85),\n",
    "    ('Bob', 'História', 78),\n",
    "    ('Alice', 'História', 95),\n",
    "    ('Bob', 'Matemática', 82),\n",
    "    ('Carlos', 'Matemática', 70),\n",
    "    ('Carlos', 'História', 65),\n",
    "    ('Alice', 'Física', 90),\n",
    "    ('Bob', 'Física', 85),\n",
    "    ('Carlos', 'Física', 75),\n",
    "    ('Diana', 'Matemática', 88),\n",
    "    ('Diana', 'História', 92),\n",
    "    ('Diana', 'Física', 95),\n",
    "]"
   ],
   "metadata": {
    "id": "zXcxd76pkGJV"
   },
   "outputs": [],
   "execution_count": null
  },
  {
   "cell_type": "markdown",
   "source": [
    "#### Tarefas:\n",
    "\n",
    "1. **Listas e Compreensão de Listas**:\n",
    "   - Crie uma lista de todas as disciplinas disponíveis (sem duplicação), usando uma compreensão de lista e um conjunto para garantir que não haja repetições.\n",
    "\n",
    "2. **Agrupamento de Notas por Aluno**:\n",
    "   - Crie um dicionário onde as chaves são os nomes dos alunos e os valores são listas com as notas. Em seguida, calcule a média das notas para cada aluno.\n",
    "\n",
    "3. **Dicionários**:\n",
    "   - Crie um dicionário que armazene as notas de cada aluno para cada disciplina. As chaves devem ser os nomes dos alunos, e os valores devem ser dicionários onde as chaves são as disciplinas e os valores são as notas.\n",
    "\n",
    "4. **Conjuntos**:\n",
    "   - Crie dois conjuntos:\n",
    "     - Um contendo os nomes dos alunos que têm uma média superior a 80.\n",
    "     - Outro contendo os nomes dos alunos que obtiveram nota superior a 90 em pelo menos uma disciplina.\n",
    "\n"
   ],
   "metadata": {
    "id": "NH1nPS5hkGkT"
   }
  },
  {
   "metadata": {
    "ExecuteTime": {
     "end_time": "2024-11-07T23:37:26.938433Z",
     "start_time": "2024-11-07T23:37:26.927308Z"
    }
   },
   "cell_type": "code",
   "source": [
    "alunos = [\n",
    "    ('Alice', 'Matemática', 85),\n",
    "    ('Bob', 'História', 78),\n",
    "    ('Alice', 'História', 95),\n",
    "    ('Bob', 'Matemática', 82),\n",
    "    ('Carlos', 'Matemática', 70),\n",
    "    ('Carlos', 'História', 65),\n",
    "    ('Alice', 'Física', 90),\n",
    "    ('Bob', 'Física', 85),\n",
    "    ('Carlos', 'Física', 75),\n",
    "    ('Diana', 'Matemática', 88),\n",
    "    ('Diana', 'História', 92),\n",
    "    ('Diana', 'Física', 95),\n",
    "]\n",
    "\n",
    "print(set([item[1] for item in alunos]))\n"
   ],
   "outputs": [
    {
     "name": "stdout",
     "output_type": "stream",
     "text": [
      "{'História', 'Matemática', 'Física'}\n"
     ]
    }
   ],
   "execution_count": 160
  },
  {
   "metadata": {
    "ExecuteTime": {
     "end_time": "2024-11-07T23:56:30.874329Z",
     "start_time": "2024-11-07T23:56:30.865576Z"
    }
   },
   "cell_type": "code",
   "source": [
    "alunos = [\n",
    "    ('Alice', 'Matemática', 85),\n",
    "    ('Bob', 'História', 78),\n",
    "    ('Alice', 'História', 95),\n",
    "    ('Bob', 'Matemática', 82),\n",
    "    ('Carlos', 'Matemática', 70),\n",
    "    ('Carlos', 'História', 65),\n",
    "    ('Alice', 'Física', 90),\n",
    "    ('Bob', 'Física', 85),\n",
    "    ('Carlos', 'Física', 75),\n",
    "    ('Diana', 'Matemática', 88),\n",
    "    ('Diana', 'História', 92),\n",
    "    ('Diana', 'Física', 95),\n",
    "]\n",
    "\n",
    "notas = [{ 'aluno': aluno, 'nota': nota } for aluno, materia, nota in alunos]\n",
    "medias = {}\n",
    "\n",
    "notas.sort(key=itemgetter('aluno'))\n",
    "\n",
    "for aluno, grupo in groupby(notas, itemgetter('aluno')):\n",
    "    lista_grupos = list(grupo)\n",
    "    quantidade_materias = len(lista_grupos)\n",
    "    soma_nota = sum(item['nota'] for item in lista_grupos)\n",
    "    medias[aluno] = round((soma_nota / quantidade_materias), 2)\n",
    "    \n",
    "print(medias)"
   ],
   "outputs": [
    {
     "name": "stdout",
     "output_type": "stream",
     "text": [
      "{'Alice': 90.0, 'Bob': 81.67, 'Carlos': 70.0, 'Diana': 91.67}\n"
     ]
    }
   ],
   "execution_count": 191
  },
  {
   "metadata": {
    "ExecuteTime": {
     "end_time": "2024-11-08T00:04:24.199849Z",
     "start_time": "2024-11-08T00:04:24.191822Z"
    }
   },
   "cell_type": "code",
   "source": [
    "alunos = [\n",
    "    ('Alice', 'Matemática', 85),\n",
    "    ('Bob', 'História', 78),\n",
    "    ('Alice', 'História', 95),\n",
    "    ('Bob', 'Matemática', 82),\n",
    "    ('Carlos', 'Matemática', 70),\n",
    "    ('Carlos', 'História', 65),\n",
    "    ('Alice', 'Física', 90),\n",
    "    ('Bob', 'Física', 85),\n",
    "    ('Carlos', 'Física', 75),\n",
    "    ('Diana', 'Matemática', 88),\n",
    "    ('Diana', 'História', 92),\n",
    "    ('Diana', 'Física', 95),\n",
    "]\n",
    "\n",
    "notas = [{ 'aluno': aluno, 'materia': materia, 'nota': nota } for aluno, materia, nota in alunos]\n",
    "medias = {}\n",
    "\n",
    "notas.sort(key=itemgetter('aluno'))\n",
    "\n",
    "for aluno, grupo in groupby(notas, itemgetter('aluno')):\n",
    "    lista_grupos = list(grupo)\n",
    "    soma_nota = {f'{item['materia']}: {item['nota']}' for item in lista_grupos}\n",
    "    print({aluno: soma_nota})"
   ],
   "outputs": [
    {
     "name": "stdout",
     "output_type": "stream",
     "text": [
      "{'Alice': {'Física: 90', 'História: 95', 'Matemática: 85'}}\n",
      "{'Bob': {'Matemática: 82', 'Física: 85', 'História: 78'}}\n",
      "{'Carlos': {'Matemática: 70', 'História: 65', 'Física: 75'}}\n",
      "{'Diana': {'História: 92', 'Matemática: 88', 'Física: 95'}}\n"
     ]
    }
   ],
   "execution_count": 211
  },
  {
   "metadata": {
    "ExecuteTime": {
     "end_time": "2024-11-08T00:14:22.266975Z",
     "start_time": "2024-11-08T00:14:22.256658Z"
    }
   },
   "cell_type": "code",
   "source": [
    "alunos = [\n",
    "    ('Alice', 'Matemática', 85),\n",
    "    ('Bob', 'História', 78),\n",
    "    ('Alice', 'História', 95),\n",
    "    ('Bob', 'Matemática', 82),\n",
    "    ('Carlos', 'Matemática', 70),\n",
    "    ('Carlos', 'História', 65),\n",
    "    ('Alice', 'Física', 90),\n",
    "    ('Bob', 'Física', 85),\n",
    "    ('Carlos', 'Física', 75),\n",
    "    ('Diana', 'Matemática', 88),\n",
    "    ('Diana', 'História', 92),\n",
    "    ('Diana', 'Física', 95),\n",
    "]\n",
    "\n",
    "notas = [{ 'aluno': aluno, 'nota': nota } for aluno, materia, nota in alunos]\n",
    "alunos = []\n",
    "\n",
    "notas.sort(key=itemgetter('aluno'))\n",
    "\n",
    "for aluno, grupo in groupby(notas, itemgetter('aluno')):\n",
    "    lista_grupos = list(grupo)\n",
    "    quantidade_materias = len(lista_grupos)\n",
    "    soma_nota = sum(item['nota'] for item in lista_grupos)\n",
    "    \n",
    "    if round((soma_nota / quantidade_materias), 2) > 80:\n",
    "        alunos.append(aluno)\n",
    "\n",
    "print({aluno for aluno in alunos})"
   ],
   "outputs": [
    {
     "name": "stdout",
     "output_type": "stream",
     "text": [
      "{'Diana', 'Bob', 'Alice'}\n"
     ]
    }
   ],
   "execution_count": 229
  },
  {
   "metadata": {
    "ExecuteTime": {
     "end_time": "2024-11-08T00:12:29.695879Z",
     "start_time": "2024-11-08T00:12:29.688566Z"
    }
   },
   "cell_type": "code",
   "source": [
    "from itertools import groupby\n",
    "from operator import itemgetter\n",
    "\n",
    "alunos = [\n",
    "    ('Alice', 'Matemática', 85),\n",
    "    ('Bob', 'História', 78),\n",
    "    ('Alice', 'História', 95),\n",
    "    ('Bob', 'Matemática', 82),\n",
    "    ('Carlos', 'Matemática', 70),\n",
    "    ('Carlos', 'História', 65),\n",
    "    ('Alice', 'Física', 90),\n",
    "    ('Bob', 'Física', 85),\n",
    "    ('Carlos', 'Física', 75),\n",
    "    ('Diana', 'Matemática', 88),\n",
    "    ('Diana', 'História', 92),\n",
    "    ('Diana', 'Física', 95),\n",
    "]\n",
    "\n",
    "notas = {item[0] for item in alunos if item[2] > 90}\n",
    "\n",
    "print(notas)"
   ],
   "outputs": [
    {
     "name": "stdout",
     "output_type": "stream",
     "text": [
      "{'Diana', 'Alice'}\n"
     ]
    }
   ],
   "execution_count": 227
  },
  {
   "cell_type": "code",
   "source": [
    "#### Exemplo de Saída Esperada:\n",
    "# Disciplinas disponíveis:\n",
    "['Matemática', 'História', 'Física']\n",
    "# Média de notas por aluno:\n",
    "{'Alice': 90.0, 'Bob': 81.67, 'Carlos': 70.0, 'Diana': 91.67}\n",
    "# Notas de cada aluno por disciplina:\n",
    "{'Alice': {'Matemática': 85, 'História': 95, 'Física': 90}, 'Bob': {'História': 78, 'Matemática': 82, 'Física': 85}, 'Carlos': {'Matemática': 70, 'História': 65, 'Física': 75}, 'Diana': {'Matemática': 88, 'História': 92, 'Física': 95}}\n",
    "# Alunos com média superior a 80:\n",
    "{'Alice', 'Bob', 'Diana'}\n",
    "# Alunos com nota superior a 90 em pelo menos uma disciplina:\n",
    "{'Alice', 'Diana'}"
   ],
   "metadata": {
    "id": "0QJJNHmpji77"
   },
   "outputs": [],
   "execution_count": null
  }
 ]
}
