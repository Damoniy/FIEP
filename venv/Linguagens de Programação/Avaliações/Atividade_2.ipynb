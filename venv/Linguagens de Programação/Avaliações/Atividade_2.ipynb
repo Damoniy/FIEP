{
 "nbformat": 4,
 "nbformat_minor": 0,
 "metadata": {
  "colab": {
   "provenance": []
  },
  "kernelspec": {
   "name": "python3",
   "display_name": "Python 3 (ipykernel)",
   "language": "python"
  },
  "language_info": {
   "name": "python"
  }
 },
 "cells": [
  {
   "cell_type": "markdown",
   "source": [
    "Considere o artigo:\n",
    "```python\n",
    "Bloice, M.D., Holzinger, A. (2016). A Tutorial on Machine Learning and Data Science Tools with Python.\n",
    "```\n",
    "In: Holzinger, A. (eds) Machine Learning for Health Informatics.<br> Lecture Notes in Computer Science(), vol 9605. Springer, Cham. <br>https://doi.org/10.1007/978-3-319-50478-0_22\n",
    "\n"
   ],
   "metadata": {
    "id": "_UB4Al1_bo7S"
   }
  },
  {
   "cell_type": "markdown",
   "source": [
    "Utilizando as bibliotecas `PyMuPDF` e `Regex`, faça a extração do texto e apresente todas as **URLs** presentes no artigo."
   ],
   "metadata": {
    "id": "QFMnFkBTdFWP"
   }
  },
  {
   "cell_type": "markdown",
   "source": [
    "Acesso ao Formulário para envio do código:\n",
    "* https://forms.gle/D54GFxjB8s6ZqkPo9"
   ],
   "metadata": {
    "id": "imQqn0MR1yMy"
   }
  },
  {
   "metadata": {},
   "cell_type": "markdown",
   "source": "### Código-resposta"
  },
  {
   "metadata": {
    "ExecuteTime": {
     "end_time": "2024-12-04T00:49:16.907794Z",
     "start_time": "2024-12-04T00:49:16.733523Z"
    }
   },
   "cell_type": "code",
   "source": [
    "import fitz\n",
    "import re\n",
    "import os\n",
    "\n",
    "def extract_urls_from_pdf_file(pdf_path):\n",
    "    urls = []\n",
    "    with fitz.open(pdf_path) as pdf:\n",
    "        for index in range(len(pdf)):\n",
    "            page = pdf[index]\n",
    "            text = page.get_text()\n",
    "            \n",
    "            urls_in_page = re.findall(r\"(https?:\\/\\/(?:www\\.)?[a-zA-Z0-9][a-zA-Z0-9-]*[a-zA-Z0-9]\\.[^\\s]{2,})\", text)\n",
    "            urls.extend(urls_in_page)\n",
    "            \n",
    "            for link in page.get_links():\n",
    "                uri = link.get('uri', None)\n",
    "                if uri and uri not in urls:\n",
    "                    urls.append(uri)\n",
    "    \n",
    "    unique_urls = urls\n",
    "    \n",
    "    final_urls = []\n",
    "    for url in unique_urls:\n",
    "        if not any(url != other_url and url in other_url for other_url in unique_urls):\n",
    "            final_urls.append(url)\n",
    "    \n",
    "    return final_urls\n",
    "\n",
    "file_path = os.path.join(os.getcwd(), \"venv\\\\Linguagens de Programação\\\\Avaliações\\\\arquivos\\\\artigo_atividade_2.pdf\")\n",
    "\n",
    "urls = extract_urls_from_pdf_file(file_path)\n",
    "\n",
    "for url in urls:\n",
    "    print(url.rstrip('.)').replace(')', ''))\n",
    "\n"
   ],
   "outputs": [
    {
     "name": "stdout",
     "output_type": "stream",
     "text": [
      "https://github.com/mdbloice/MLDS\n",
      "http://topepo.github.io/caret/index.html\n",
      "https://www.continuum.io/downloads\n",
      "http://mathesaurus.sourceforge.net/matlab-numpy.html\n",
      "http://www.scipy-lectures.org/_images/numpy_indexing.png\n",
      "http://pandas.pydata.org/pandas-docs/stable/missing_data.html\n",
      "http://www.scipy-lectures.org/\n",
      "http://pandas.pydata.org/pandas-docs/stable/visualization.html\n",
      "http://scikit-learn.org/stable/documentation.html\n",
      "https://twitter.com/fchollet/status/765212287531495424\n",
      "http://torch.ch/docs/getting-started.html\n",
      "https://developer.nvidia.com/digits\n",
      "https://www.tensorﬂow.org/get\n",
      "http://www.cancer.gov/Indiana\n",
      "https://www.tensorflow.org/get_started/os_setup.html\n",
      "https://visualsonline.cancer.gov/details.cfm?imageid=10583\n",
      "http://augmentor.readthedocs.io\n",
      "http://augmentorjl.readthedocs.io\n",
      "http://cacm.acm.org/blogs/blog-cacm/176450-python-is-now-the-most-popular-introductory-teaching-language-at-top-u-s-universities\n",
      "http://arxiv.org/abs/1408.5093\n",
      "http://dx.doi.org/10.1007/978-3-642-40763-5_51\n"
     ]
    }
   ],
   "execution_count": 71
  },
  {
   "metadata": {},
   "cell_type": "code",
   "outputs": [],
   "execution_count": null,
   "source": ""
  }
 ]
}
