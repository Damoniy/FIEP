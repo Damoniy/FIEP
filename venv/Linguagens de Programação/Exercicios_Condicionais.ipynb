{
 "nbformat": 4,
 "nbformat_minor": 0,
 "metadata": {
  "colab": {
   "provenance": []
  },
  "kernelspec": {
   "name": "python3",
   "display_name": "Python 3 (ipykernel)",
   "language": "python"
  },
  "language_info": {
   "name": "python"
  }
 },
 "cells": [
  {
   "cell_type": "markdown",
   "source": [
    "## **Exercícios: Aula 1**"
   ],
   "metadata": {
    "id": "PTM0dgNGanwM"
   }
  },
  {
   "cell_type": "markdown",
   "source": [
    "### **1. Estrutura de Controle: Condicionais (if, else, elif)**\n"
   ],
   "metadata": {
    "id": "KbhKW9A-yTWu"
   }
  },
  {
   "cell_type": "markdown",
   "source": [
    "**Exercício:**\n",
    "Escreva um programa que peça a idade de uma pessoa e informe se ela é criança (0-12 anos), adolescente (13-17 anos) ou adulta (18+).\n"
   ],
   "metadata": {
    "id": "-X3TyVTRvWpi"
   }
  },
  {
   "cell_type": "code",
   "metadata": {
    "id": "nQmgCjGOyNJc",
    "ExecuteTime": {
     "end_time": "2024-10-11T00:06:15.648929Z",
     "start_time": "2024-10-11T00:06:14.086197Z"
    }
   },
   "source": [
    "idade = int(input('Digite a idade da pessoa:'))\n",
    "\n",
    "def classificar_pessoa(idade):\n",
    "    if idade in range(0, 13):\n",
    "        return 'A pessoa é uma criança.'\n",
    "    elif idade in range(13, 18):\n",
    "        return 'A pessoa é um adolescente.'\n",
    "    elif idade >= 18:\n",
    "        return 'A pessoa é um adulto.'\n",
    "\n",
    "print(classificar_pessoa(idade))"
   ],
   "outputs": [
    {
     "name": "stdout",
     "output_type": "stream",
     "text": [
      "A pessoa é uma criança.\n"
     ]
    }
   ],
   "execution_count": 31
  },
  {
   "cell_type": "markdown",
   "source": [
    "**Exercício :**\n",
    "Escreva um programa que peça três números e imprima o maior deles."
   ],
   "metadata": {
    "id": "Xo91NBPSvnMQ"
   }
  },
  {
   "cell_type": "code",
   "source": [
    "primeiro_numero = int(input('Digite o primeiro numero:'))\n",
    "segundo_numero = int(input('Digite o segundo numero:'))\n",
    "terceiro_numero = int(input('Digite o terceiro numero:'))\n",
    "\n",
    "def obter_maior_numero(**kwargs):\n",
    "    if kwargs['primeiro_numero'] > segundo_numero and primeiro_numero > terceiro_numero:\n",
    "        return primeiro_numero\n",
    "    if segundo_numero > terceiro_numero and segundo_numero > primeiro_numero:\n",
    "        return segundo_numero\n",
    "    if terceiro_numero > primeiro_numero and terceiro_numero > segundo_numero:\n",
    "        return terceiro_numero\n",
    "    \n",
    "print('O maior deles é: ', obter_maior_numero(primeiro_numero=primeiro_numero, segundo_numero=segundo_numero, terceiro_numero=terceiro_numero))"
   ],
   "metadata": {
    "id": "ND6zocVBygas",
    "ExecuteTime": {
     "end_time": "2024-10-11T00:10:43.101149Z",
     "start_time": "2024-10-11T00:10:38.574585Z"
    }
   },
   "outputs": [
    {
     "name": "stdout",
     "output_type": "stream",
     "text": [
      "O maior deles é:  10\n"
     ]
    }
   ],
   "execution_count": 38
  },
  {
   "cell_type": "markdown",
   "source": [
    "**Exercício :**\n",
    "Escreva um programa que verifique se um número é par ou ímpar.\n"
   ],
   "metadata": {
    "id": "4q_08W5XvtPy"
   }
  },
  {
   "cell_type": "code",
   "source": [
    "def verifica_par_impar(numero):\n",
    "    return numero % 2 == 0\n",
    "\n",
    "numero = int(input('Digite um numero:'))\n",
    "\n",
    "if verifica_par_impar(numero):\n",
    "    print('O número é par.')\n",
    "else:\n",
    "    print('O número é impar.')"
   ],
   "metadata": {
    "id": "-DxSJPaWyz6U",
    "ExecuteTime": {
     "end_time": "2024-10-08T23:36:49.429608Z",
     "start_time": "2024-10-08T23:36:47.597758Z"
    }
   },
   "outputs": [
    {
     "name": "stdout",
     "output_type": "stream",
     "text": [
      "O número é impar.\n"
     ]
    }
   ],
   "execution_count": 14
  },
  {
   "cell_type": "markdown",
   "source": [
    "### **2. Estrutura de Controle: Laços (for, while)**"
   ],
   "metadata": {
    "id": "g0nCEd_syayi"
   }
  },
  {
   "cell_type": "markdown",
   "source": [
    "**Exercício :**\n",
    "Escreva um programa que peça um número inteiro positivo e imprima todos os números de 1 até esse número usando um laço `for`.\n"
   ],
   "metadata": {
    "id": "5JAsRHAEv3Sr"
   }
  },
  {
   "cell_type": "code",
   "source": [
    "### Usando List Comprehension \n",
    "def imprimir_numeros_list(numero):\n",
    "    numeros_inteiros = [int(i) for i in range(int(inteiro_positivo))]    \n",
    "    print(numeros_inteiros)\n",
    "\n",
    "### Usando Laço for\n",
    "def imprimir_numeros_for_each(numero):\n",
    "    for i in range(int(inteiro_positivo)):\n",
    "        print(i)\n",
    "\n",
    "inteiro_positivo = input('Digite um inteiro positivo: ')\n",
    "\n",
    "if inteiro_positivo == \"\":\n",
    "    raise ValueError('Informe um número!')\n",
    "\n",
    "if int(inteiro_positivo) < 0:\n",
    "    raise ValueError('O inteiro deve ser positivo.')\n",
    "\n",
    "imprimir_numeros_inteiros_positivos_list(inteiro_positivo)\n",
    "imprimir_numeros_inteiros_positivos_for(inteiro_positivo)"
   ],
   "metadata": {
    "id": "iXZgFkLXyf2i",
    "ExecuteTime": {
     "end_time": "2024-10-09T00:05:05.660734Z",
     "start_time": "2024-10-09T00:05:04.668757Z"
    }
   },
   "outputs": [
    {
     "name": "stdout",
     "output_type": "stream",
     "text": [
      "[0, 1, 2]\n",
      "0\n",
      "1\n",
      "2\n"
     ]
    }
   ],
   "execution_count": 70
  },
  {
   "cell_type": "markdown",
   "source": [
    "**Exercício :**\n",
    "Escreva um programa que peça um número inteiro e imprima a tabuada desse número de 1 a 10 usando um laço `for`.\n"
   ],
   "metadata": {
    "id": "4-_mpt9tv8mK"
   }
  },
  {
   "cell_type": "code",
   "source": [
    "numero_inteiro = int(input('Digite um numero inteiro: '))\n",
    "\n",
    "print(f'Tabuada do número: {numero_inteiro}')\n",
    "for i in range(0, 11):\n",
    "    print(f'{i} x {numero_inteiro} = {i * numero_inteiro}')"
   ],
   "metadata": {
    "id": "8faD21aky6BB",
    "ExecuteTime": {
     "end_time": "2024-10-09T00:05:51.353837Z",
     "start_time": "2024-10-09T00:05:49.421974Z"
    }
   },
   "outputs": [
    {
     "name": "stdout",
     "output_type": "stream",
     "text": [
      "Tabuada do número: 120\n",
      "0 x 120 = 0\n",
      "1 x 120 = 120\n",
      "2 x 120 = 240\n",
      "3 x 120 = 360\n",
      "4 x 120 = 480\n",
      "5 x 120 = 600\n",
      "6 x 120 = 720\n",
      "7 x 120 = 840\n",
      "8 x 120 = 960\n",
      "9 x 120 = 1080\n",
      "10 x 120 = 1200\n"
     ]
    }
   ],
   "execution_count": 72
  },
  {
   "cell_type": "markdown",
   "source": [
    "**Exercício :**\n",
    "Escreva um programa que peça um número e continue pedindo até que o usuário insira um número positivo."
   ],
   "metadata": {
    "id": "ykv0HgfWwFkP"
   }
  },
  {
   "cell_type": "code",
   "source": [
    "numero_positivo = None\n",
    "while numero_positivo is None or numero_positivo < 0:\n",
    "    numero_positivo = int(input('Digite um numero positivo: '))\n",
    "\n",
    "print('Feito!')"
   ],
   "metadata": {
    "id": "sX9-30vVy8vy",
    "ExecuteTime": {
     "end_time": "2024-10-11T00:13:52.366522Z",
     "start_time": "2024-10-11T00:13:47.872522Z"
    }
   },
   "outputs": [
    {
     "name": "stdout",
     "output_type": "stream",
     "text": [
      "Feito!\n"
     ]
    }
   ],
   "execution_count": 40
  },
  {
   "cell_type": "markdown",
   "source": [
    "**Exercício :**\n",
    "Escreva um programa que calcule a soma de todos os números `pares` entre 1 e 100."
   ],
   "metadata": {
    "id": "0ZCubUT6wLmn"
   }
  },
  {
   "cell_type": "code",
   "source": [
    "def verifica_par_impar(numero):\n",
    "    return numero % 2 == 0\n",
    "\n",
    "soma = 0\n",
    "\n",
    "for numero in range(1, 101):\n",
    "    if verifica_par_impar(numero):\n",
    "        soma += numero\n",
    "\n",
    "print(soma)\n",
    "        "
   ],
   "metadata": {
    "id": "4Sc_541py-gh",
    "ExecuteTime": {
     "end_time": "2024-10-11T00:13:59.596922Z",
     "start_time": "2024-10-11T00:13:59.592707Z"
    }
   },
   "outputs": [
    {
     "name": "stdout",
     "output_type": "stream",
     "text": [
      "2550\n"
     ]
    }
   ],
   "execution_count": 42
  },
  {
   "cell_type": "markdown",
   "source": [
    "**Exercício :**\n",
    "Escreva um programa que peça ao usuário 5 números inteiros e calcule a soma desses números utilizando um laço `for`.\n",
    "\n"
   ],
   "metadata": {
    "id": "QDzEc-UlwnCI"
   }
  },
  {
   "cell_type": "code",
   "source": [
    "soma = 0\n",
    "print('Digite cinco números inteiros.')\n",
    "for indice in range(0, 5):\n",
    "    numero = input('Digite um numero: ')\n",
    "    soma += int(numero)    \n",
    "\n",
    "print(soma)"
   ],
   "metadata": {
    "id": "beIXk-Z7ah6x",
    "ExecuteTime": {
     "end_time": "2024-10-11T00:14:06.346075Z",
     "start_time": "2024-10-11T00:14:01.673059Z"
    }
   },
   "outputs": [
    {
     "name": "stdout",
     "output_type": "stream",
     "text": [
      "Digite cinco números inteiros.\n",
      "15\n"
     ]
    }
   ],
   "execution_count": 43
  },
  {
   "cell_type": "markdown",
   "source": [
    "**Exercício :**\n",
    "Escreva um programa que imprima todos os números múltiplos de 3 entre 1 e 50 usando um laço `for`."
   ],
   "metadata": {
    "id": "2UDTeB67wzsu"
   }
  },
  {
   "cell_type": "code",
   "source": [
    "def verifica_se_multiplo_de_tres(numero):\n",
    "    return numero % 3 == 0\n",
    "\n",
    "soma = 0\n",
    "\n",
    "for numero in range(1, 51):\n",
    "    if verifica_se_multiplo_de_tres(numero):\n",
    "        soma += numero\n",
    "\n",
    "print(soma)"
   ],
   "metadata": {
    "id": "ULamZXIWah6z",
    "ExecuteTime": {
     "end_time": "2024-10-09T00:32:25.364218Z",
     "start_time": "2024-10-09T00:32:25.356172Z"
    }
   },
   "outputs": [
    {
     "name": "stdout",
     "output_type": "stream",
     "text": [
      "408\n"
     ]
    }
   ],
   "execution_count": 88
  },
  {
   "cell_type": "markdown",
   "source": [
    "**Exercício :**\n",
    "Escreva um programa que leia um número do usuário e imprima o fatorial desse número. Resolver com `while` e `for`"
   ],
   "metadata": {
    "id": "s5fEuRopw5aR"
   }
  },
  {
   "cell_type": "code",
   "source": [
    "import math\n",
    "\n",
    "numero = int(input('Digite um numero: '))\n",
    "numeros = []\n",
    "\n",
    "for indice in range(numero, 0, -1):\n",
    "    numeros.append(str(indice))\n",
    "\n",
    "fatorial = ' x '.join(numeros)\n",
    "print(f'{numero}! = {fatorial} =', math.factorial(numero))"
   ],
   "metadata": {
    "id": "ZpeylM4nah62",
    "ExecuteTime": {
     "end_time": "2024-10-09T00:48:16.400792Z",
     "start_time": "2024-10-09T00:48:14.961727Z"
    }
   },
   "outputs": [
    {
     "name": "stdout",
     "output_type": "stream",
     "text": [
      "9! = 9 x 8 x 7 x 6 x 5 x 4 x 3 x 2 x 1 = 362880\n"
     ]
    }
   ],
   "execution_count": 148
  },
  {
   "cell_type": "code",
   "source": [
    "import math\n",
    "\n",
    "numero = int(input('Digite um numero: '))\n",
    "numeros = []\n",
    "indice = numero\n",
    "\n",
    "while indice > 0:\n",
    "    numeros.append(str(indice))\n",
    "    indice -= 1\n",
    "\n",
    "fatorial = ' x '.join(numeros)\n",
    "print(f'{numero}! = {fatorial} =', math.factorial(numero))"
   ],
   "metadata": {
    "id": "XGuRi_Z_xN1E",
    "ExecuteTime": {
     "end_time": "2024-10-09T00:53:27.044694Z",
     "start_time": "2024-10-09T00:53:25.335162Z"
    }
   },
   "outputs": [
    {
     "name": "stdout",
     "output_type": "stream",
     "text": [
      "5! = 5 x 4 x 3 x 2 x 1 = 120\n"
     ]
    }
   ],
   "execution_count": 157
  },
  {
   "cell_type": "markdown",
   "source": [
    "**Exercício :**\n",
    "Escreva um programa que leia números do usuário até que seja inserido o número zero. Quando isso ocorrer, o programa deve imprimir a soma de todos os números inseridos.\n"
   ],
   "metadata": {
    "id": "o-HYAYDBxmtf"
   }
  },
  {
   "cell_type": "code",
   "source": [
    "numero = None\n",
    "numeros = []\n",
    "\n",
    "while numero != 0:\n",
    "    numero = int(input('Digite um numero: '))\n",
    "    numeros.append(numero)\n",
    "\n",
    "soma = sum(numeros)\n",
    "print(soma)"
   ],
   "metadata": {
    "id": "wPoFCBo0ah62",
    "ExecuteTime": {
     "end_time": "2024-10-09T00:59:52.045667Z",
     "start_time": "2024-10-09T00:59:48.953521Z"
    }
   },
   "outputs": [
    {
     "name": "stdout",
     "output_type": "stream",
     "text": [
      "9\n"
     ]
    }
   ],
   "execution_count": 184
  },
  {
   "cell_type": "markdown",
   "source": [
    "**Exercício :**\n",
    "Escreva um programa que peça um número inteiro positivo e, imprima todos os números ímpares entre 1 e esse número.\n"
   ],
   "metadata": {
    "id": "qKRMlnxTxypO"
   }
  },
  {
   "cell_type": "code",
   "source": [
    "def verifica_se_impar(numero):\n",
    "    return numero % 2 != 0\n",
    "\n",
    "numero_inteiro = int(input('Digite um inteiro positivo: '))\n",
    "\n",
    "for numero in range(1, numero_inteiro + 1):\n",
    "    if verifica_se_impar(numero):\n",
    "        print(numero)"
   ],
   "metadata": {
    "id": "z98OAP-Wah63",
    "ExecuteTime": {
     "end_time": "2024-10-09T23:14:01.027055Z",
     "start_time": "2024-10-09T23:13:59.557686Z"
    }
   },
   "outputs": [
    {
     "name": "stdout",
     "output_type": "stream",
     "text": [
      "1\n",
      "3\n",
      "5\n",
      "7\n",
      "9\n"
     ]
    }
   ],
   "execution_count": 8
  },
  {
   "cell_type": "markdown",
   "source": [
    "### **3. Funções Básicas: Definição, Chamada, Argumentos, Retorno de Valores**\n"
   ],
   "metadata": {
    "id": "DB3p8ywMypQu"
   }
  },
  {
   "cell_type": "markdown",
   "source": [
    "**Exercício :**\n",
    "Escreva uma função chamada `maior` que receba dois números e retorne o maior deles."
   ],
   "metadata": {
    "id": "Rw49do2Ax94i"
   }
  },
  {
   "cell_type": "code",
   "source": [
    "def maior(numero_1, numero_2):\n",
    "    return max(numero_1, numero_2)\n",
    "\n",
    "maior(15, 10)"
   ],
   "metadata": {
    "id": "svimF3LMyqXK",
    "ExecuteTime": {
     "end_time": "2024-10-09T23:14:48.405613Z",
     "start_time": "2024-10-09T23:14:48.399624Z"
    }
   },
   "outputs": [
    {
     "data": {
      "text/plain": [
       "15"
      ]
     },
     "execution_count": 10,
     "metadata": {},
     "output_type": "execute_result"
    }
   ],
   "execution_count": 10
  },
  {
   "cell_type": "markdown",
   "source": [
    "**Exercício :**\n",
    "Escreva uma função chamada `potencia` que receba dois números, base e expoente, e retorne o valor da base elevada ao expoente, sem usar o operador `**`."
   ],
   "metadata": {
    "id": "110d-zcWyFg7"
   }
  },
  {
   "cell_type": "code",
   "source": [
    "def potencia(base, expoente):\n",
    "    return math.pow(base, expoente)\n",
    "    \n",
    "print(potencia(10, 2))"
   ],
   "metadata": {
    "id": "gyDqK3L1zBlY",
    "ExecuteTime": {
     "end_time": "2024-10-09T23:17:02.865817Z",
     "start_time": "2024-10-09T23:17:02.860891Z"
    }
   },
   "outputs": [
    {
     "name": "stdout",
     "output_type": "stream",
     "text": [
      "100.0\n"
     ]
    }
   ],
   "execution_count": 15
  },
  {
   "cell_type": "markdown",
   "source": [
    "**Exercício :**\n",
    "Escreva uma função chamada `eh_par` que receba um número e retorne `True` se o número for par, e `False` caso contrário."
   ],
   "metadata": {
    "id": "IiCaIBAYyRzB"
   }
  },
  {
   "cell_type": "code",
   "source": [],
   "metadata": {
    "id": "mjh4nujhE1DM"
   },
   "execution_count": null,
   "outputs": []
  },
  {
   "cell_type": "markdown",
   "source": [
    "**Exercício : Função para Calcular o Volume de um Cilindro**\n",
    "Escreva uma função chamada `volume_cilindro` que receba o raio da base e a altura de um cilindro como argumentos e retorne o volume do cilindro. Use a fórmula:  \n",
    "\n",
    "$\\text{Volume} = \\pi \\times \\text{raio}^2 \\times \\text{altura}$\n",
    "\n",
    "Considere o valor de $\\pi = 3.14159$.\n",
    "\n",
    "\n"
   ],
   "metadata": {
    "id": "UK6O-wLqX5OB"
   }
  },
  {
   "cell_type": "code",
   "source": [
    "def volume_cilindo_math(raio, altura):\n",
    "    return math.pi * math.pow(raio, 2) * altura\n",
    "\n",
    "def volume_cilindo_manual(raio, altura):\n",
    "    return 3.14159 * math.pow(raio, 2) * altura\n",
    "\n",
    "print(volume_cilindo_math(10, 2))\n",
    "print(volume_cilindo_manual(10, 2))"
   ],
   "metadata": {
    "id": "rc3-Vod8X7a-",
    "ExecuteTime": {
     "end_time": "2024-10-09T23:19:42.035572Z",
     "start_time": "2024-10-09T23:19:42.031216Z"
    }
   },
   "outputs": [
    {
     "name": "stdout",
     "output_type": "stream",
     "text": [
      "628.318\n"
     ]
    }
   ],
   "execution_count": 17
  },
  {
   "cell_type": "markdown",
   "source": [
    "**Exercício : Função para Converter Temperatura**\n",
    "Escreva uma função chamada `celsius_para_fahrenheit` que converta uma temperatura dada em graus Celsius para Fahrenheit. A fórmula de conversão é:  \n",
    "\n",
    "$F = \\left(\\frac{9}{5} \\times C\\right) + 32$\n",
    "\n"
   ],
   "metadata": {
    "id": "6N256r4rYQkS"
   }
  },
  {
   "cell_type": "code",
   "source": [
    "from fractions import Fraction\n",
    "\n",
    "def celsius_para_farenheit(temperatura):\n",
    "    return float((Fraction(9, 5) * temperatura) + 32)\n",
    "\n",
    "print(celsius_para_farenheit(12))"
   ],
   "metadata": {
    "id": "R4dziXdhYSir",
    "ExecuteTime": {
     "end_time": "2024-10-09T23:23:25.887438Z",
     "start_time": "2024-10-09T23:23:25.881618Z"
    }
   },
   "outputs": [
    {
     "name": "stdout",
     "output_type": "stream",
     "text": [
      "53.6\n"
     ]
    }
   ],
   "execution_count": 23
  },
  {
   "cell_type": "markdown",
   "source": [
    "**Exercício : Função para Calcular o IMC**\n",
    "Escreva uma função chamada `calcula_imc` que receba o peso (em kg) e a altura (em metros) de uma pessoa e retorne o Índice de Massa Corporal (IMC). A fórmula é:  \n",
    "\n",
    "$\\text{IMC} = \\frac{\\text{peso}}{\\text{altura}^2}$"
   ],
   "metadata": {
    "id": "0TKhUJ1ZICFM"
   }
  },
  {
   "cell_type": "code",
   "source": [
    "def calcular_imc(peso, altura):\n",
    "    return peso / math.pow(altura, 2)\n",
    "\n",
    "print(calcular_imc(47, 1.65))"
   ],
   "metadata": {
    "id": "gdvIRlUFYsj-",
    "ExecuteTime": {
     "end_time": "2024-10-10T23:05:03.766177Z",
     "start_time": "2024-10-10T23:05:03.759317Z"
    }
   },
   "outputs": [
    {
     "name": "stdout",
     "output_type": "stream",
     "text": [
      "17.263544536271812\n"
     ]
    }
   ],
   "execution_count": 13
  }
 ]
}
