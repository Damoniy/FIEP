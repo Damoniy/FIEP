{
 "cells": [
  {
   "cell_type": "markdown",
   "id": "b6f97d06",
   "metadata": {
    "id": "b6f97d06"
   },
   "source": [
    "### Contar Caracteres\n",
    "*  Escreva uma função que receba uma string e retorne o número de caracteres que ela contém.\n"
   ]
  },
  {
   "cell_type": "code",
   "id": "b517833a",
   "metadata": {
    "id": "b517833a",
    "ExecuteTime": {
     "end_time": "2024-10-15T22:13:38.715906Z",
     "start_time": "2024-10-15T22:13:38.707053Z"
    }
   },
   "source": [
    "def obter_quantidade_caracteres(texto):\n",
    "    return len(texto)\n",
    "\n",
    "print(obter_quantidade_caracteres('Hello World'))"
   ],
   "outputs": [
    {
     "name": "stdout",
     "output_type": "stream",
     "text": [
      "11\n"
     ]
    }
   ],
   "execution_count": 2
  },
  {
   "cell_type": "markdown",
   "id": "0ad95a37",
   "metadata": {
    "id": "0ad95a37"
   },
   "source": [
    "### Inverter String\n",
    "* Crie uma função que receba uma string e retorne a string invertida."
   ]
  },
  {
   "cell_type": "code",
   "id": "3ea868e0",
   "metadata": {
    "id": "3ea868e0",
    "ExecuteTime": {
     "end_time": "2024-10-12T11:22:38.367701Z",
     "start_time": "2024-10-12T11:22:38.362495Z"
    }
   },
   "source": [
    "def inverter_texto(texto):\n",
    "    return texto[::-1]\n",
    "\n",
    "print(inverter_texto('Hello World'))"
   ],
   "outputs": [
    {
     "name": "stdout",
     "output_type": "stream",
     "text": [
      "dlroW olleH\n"
     ]
    }
   ],
   "execution_count": 3
  },
  {
   "cell_type": "markdown",
   "id": "e88ec1ef",
   "metadata": {
    "id": "e88ec1ef"
   },
   "source": [
    "### Contar Vogais\n",
    "*  Escreva um programa que conte o número de vogais em uma string fornecida pelo usuário."
   ]
  },
  {
   "cell_type": "code",
   "id": "f68164a8",
   "metadata": {
    "id": "f68164a8",
    "ExecuteTime": {
     "end_time": "2024-10-12T11:24:47.528375Z",
     "start_time": "2024-10-12T11:24:47.520630Z"
    }
   },
   "source": [
    "def contar_vogais(texto):\n",
    "    vogais = 'aeiouAEIOU'\n",
    "    return len([vogal for vogal in texto if vogal in vogais])\n",
    "\n",
    "print(contar_vogais('Hello World'))"
   ],
   "outputs": [
    {
     "name": "stdout",
     "output_type": "stream",
     "text": [
      "3\n"
     ]
    }
   ],
   "execution_count": 5
  },
  {
   "cell_type": "markdown",
   "id": "a79a1698",
   "metadata": {
    "id": "a79a1698"
   },
   "source": [
    "### Maiúsculas e Minúsculas\n",
    "* Implemente uma função que converta todas as letras minúsculas de uma string para maiúsculas e vice-versa."
   ]
  },
  {
   "cell_type": "code",
   "id": "ec19cb3b",
   "metadata": {
    "id": "ec19cb3b",
    "ExecuteTime": {
     "end_time": "2024-10-12T11:26:28.858251Z",
     "start_time": "2024-10-12T11:26:28.852002Z"
    }
   },
   "source": [
    "def swap_case(texto):\n",
    "    return texto.swapcase()\n",
    "\n",
    "print(swap_case('Hello World'))"
   ],
   "outputs": [
    {
     "name": "stdout",
     "output_type": "stream",
     "text": [
      "hELLO wORLD\n"
     ]
    }
   ],
   "execution_count": 6
  },
  {
   "cell_type": "markdown",
   "id": "546d3bdb",
   "metadata": {
    "id": "546d3bdb"
   },
   "source": [
    "### Primeira Letra Maiúscula\n",
    "* Crie uma função que receba uma frase e retorne a mesma frase com a primeira letra de cada palavra em maiúscula."
   ]
  },
  {
   "cell_type": "code",
   "id": "82ed7ca2",
   "metadata": {
    "id": "82ed7ca2",
    "ExecuteTime": {
     "end_time": "2024-10-12T11:27:43.711732Z",
     "start_time": "2024-10-12T11:27:43.706878Z"
    }
   },
   "source": [
    "def capitalizar(texto):\n",
    "    return texto.title()\n",
    "\n",
    "print(capitalizar('hello world'))"
   ],
   "outputs": [
    {
     "name": "stdout",
     "output_type": "stream",
     "text": [
      "Hello World\n"
     ]
    }
   ],
   "execution_count": 8
  },
  {
   "cell_type": "markdown",
   "id": "abc59348",
   "metadata": {
    "id": "abc59348"
   },
   "source": [
    "### Remover Espaços\n",
    "* Escreva uma função que remova todos os espaços em branco de uma string."
   ]
  },
  {
   "cell_type": "code",
   "id": "2de92ae3",
   "metadata": {
    "id": "2de92ae3",
    "ExecuteTime": {
     "end_time": "2024-10-12T11:29:45.524003Z",
     "start_time": "2024-10-12T11:29:45.519035Z"
    }
   },
   "source": [
    "def remover_espacos_externos(texto):\n",
    "    return texto.strip()\n",
    "\n",
    "print(remover_espacos_externos('  Hello World  '))"
   ],
   "outputs": [
    {
     "name": "stdout",
     "output_type": "stream",
     "text": [
      "Hello World\n"
     ]
    }
   ],
   "execution_count": 10
  },
  {
   "cell_type": "markdown",
   "id": "ee1937f5",
   "metadata": {
    "id": "ee1937f5"
   },
   "source": [
    "### Palíndromo\n",
    "* Escreva uma função que verifique se uma string é um palíndromo (lê-se da mesma forma de trás para frente)."
   ]
  },
  {
   "cell_type": "code",
   "id": "f9b5b65c",
   "metadata": {
    "id": "f9b5b65c",
    "ExecuteTime": {
     "end_time": "2024-10-16T00:25:23.844909Z",
     "start_time": "2024-10-16T00:25:23.834916Z"
    }
   },
   "source": [
    "def obter_se_palindromo(texto):\n",
    "    palindromo = texto.lower().replace(' ', '') \n",
    "    return palindromo == palindromo[::-1]\n",
    "    \n",
    "print('A sacada da casa'.lower().replace(' ', ''))\n",
    "print(obter_se_palindromo('Hello World'))\n",
    "print(obter_se_palindromo('A sacada da casa'))\n",
    "print(obter_se_palindromo('Reviver'))"
   ],
   "outputs": [
    {
     "name": "stdout",
     "output_type": "stream",
     "text": [
      "asacadadacasa\n",
      "False\n",
      "True\n",
      "True\n"
     ]
    }
   ],
   "execution_count": 9
  },
  {
   "cell_type": "markdown",
   "id": "bb7ca74c",
   "metadata": {
    "id": "bb7ca74c"
   },
   "source": [
    "### Substituir Caracteres\n",
    "* Crie um programa que substitua todas as ocorrências de um caractere específico em uma string por outro caractere."
   ]
  },
  {
   "cell_type": "code",
   "id": "cbcdeba7",
   "metadata": {
    "id": "cbcdeba7",
    "ExecuteTime": {
     "end_time": "2024-10-12T11:40:52.156742Z",
     "start_time": "2024-10-12T11:40:52.151972Z"
    }
   },
   "source": [
    "def substituir(texto, alvo, substituicao):\n",
    "   return texto.replace(alvo, substituicao)\n",
    "\n",
    "alvo = 'o'\n",
    "substituicao = '0'\n",
    "print(substituir('Hello World', alvo, substituicao))"
   ],
   "outputs": [
    {
     "name": "stdout",
     "output_type": "stream",
     "text": [
      "Hell0 W0rld\n"
     ]
    }
   ],
   "execution_count": 32
  },
  {
   "cell_type": "markdown",
   "id": "4a13be22",
   "metadata": {
    "id": "4a13be22"
   },
   "source": [
    "### Contar Palavras\n",
    "*  Escreva uma função que conte o número de palavras em uma string (considerando que as palavras estão separadas por espaços)."
   ]
  },
  {
   "cell_type": "code",
   "id": "1dbc9119",
   "metadata": {
    "id": "1dbc9119",
    "ExecuteTime": {
     "end_time": "2024-10-12T11:41:26.263971Z",
     "start_time": "2024-10-12T11:41:26.258929Z"
    }
   },
   "source": [
    "def contar_palavras(texto):\n",
    "    return len(texto.split())\n",
    "\n",
    "print(contar_palavras('Hello World'))"
   ],
   "outputs": [
    {
     "name": "stdout",
     "output_type": "stream",
     "text": [
      "2\n"
     ]
    }
   ],
   "execution_count": 33
  },
  {
   "cell_type": "markdown",
   "id": "9c664a8e",
   "metadata": {
    "id": "9c664a8e"
   },
   "source": [
    "### Encontre a palavra mais frequente\n",
    "* Crie uma função que receba uma string e retorne o caractere que mais se repete."
   ]
  },
  {
   "cell_type": "code",
   "id": "f631be1e",
   "metadata": {
    "id": "f631be1e",
    "ExecuteTime": {
     "end_time": "2024-10-12T12:05:30.624766Z",
     "start_time": "2024-10-12T12:05:30.617759Z"
    }
   },
   "source": [
    "import re\n",
    "\n",
    "def remover_acentos(texto):\n",
    "    return re.sub(r'[^a-zA-Z0-9\\s]', '', texto.lower()).split()\n",
    "    \n",
    "def obter_palavra_mais_comum(texto):\n",
    "    amostra = remover_acentos(texto)\n",
    "    palavras = {}\n",
    "        \n",
    "    for palavra in amostra:\n",
    "        if palavra in palavras.keys():\n",
    "            palavras[palavra] += 1\n",
    "        else:\n",
    "            palavras[palavra] = 1\n",
    "    \n",
    "    palavra_mais_frequente = ''\n",
    "    quantidade_mais_frequente = 0\n",
    "    \n",
    "    for palavra, quantidade in palavras.items():\n",
    "        if quantidade > quantidade_mais_frequente:\n",
    "            quantidade_mais_frequente = quantidade\n",
    "            palavra_mais_frequente = palavra\n",
    "    \n",
    "    return palavra_mais_frequente, quantidade_mais_frequente\n",
    "\n",
    "print(obter_palavra_mais_comum('''Hello World! This world is a befaultiful world!'''))\n",
    "    "
   ],
   "outputs": [
    {
     "name": "stdout",
     "output_type": "stream",
     "text": [
      "('world', 3)\n"
     ]
    }
   ],
   "execution_count": 44
  },
  {
   "cell_type": "markdown",
   "id": "e638ba16",
   "metadata": {
    "id": "e638ba16"
   },
   "source": [
    "### Encontre Substring\n",
    "*  Crie uma função que verifique se uma substring existe dentro de uma string maior."
   ]
  },
  {
   "cell_type": "code",
   "id": "6ea2aed1",
   "metadata": {
    "id": "6ea2aed1",
    "ExecuteTime": {
     "end_time": "2024-10-12T12:08:43.637161Z",
     "start_time": "2024-10-12T12:08:43.632046Z"
    }
   },
   "source": [
    "def obter_se_texto_contem(texto, amostra):\n",
    "    return amostra.lower() in texto.lower()\n",
    "\n",
    "texto = '''Hello World! This world is a beautiful world!'''\n",
    "amostra = 'hello world'\n",
    "\n",
    "print(obter_se_texto_contem(texto, amostra))\n",
    "\n",
    "amostra = 'hello kitty'\n",
    "print(obter_se_texto_contem(texto, amostra))\n",
    "\n",
    "amostra = 'beautiful world'\n",
    "print(obter_se_texto_contem(texto, amostra))"
   ],
   "outputs": [
    {
     "name": "stdout",
     "output_type": "stream",
     "text": [
      "True\n",
      "False\n",
      "True\n"
     ]
    }
   ],
   "execution_count": 50
  }
 ],
 "metadata": {
  "colab": {
   "provenance": []
  },
  "language_info": {
   "name": "python"
  },
  "kernelspec": {
   "name": "python3",
   "display_name": "Python 3 (ipykernel)",
   "language": "python"
  }
 },
 "nbformat": 4,
 "nbformat_minor": 5
}
