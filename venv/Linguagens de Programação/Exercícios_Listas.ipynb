{
 "nbformat": 4,
 "nbformat_minor": 0,
 "metadata": {
  "colab": {
   "provenance": []
  },
  "kernelspec": {
   "name": "python3",
   "display_name": "Python 3 (ipykernel)",
   "language": "python"
  },
  "language_info": {
   "name": "python"
  }
 },
 "cells": [
  {
   "cell_type": "markdown",
   "source": [
    "### **Exercício: Intercalar duas listas**\n",
    "Dadas duas listas de **comprimentos iguais**, crie uma nova lista que intercala os elementos dessas duas listas. Por exemplo, para as listas `[1, 2, 3]` e `['a', 'b', 'c']`, a nova lista deve ser `[1, 'a', 2, 'b', 3, 'c']`.\n"
   ],
   "metadata": {
    "id": "y8vM5H62bDfy"
   }
  },
  {
   "cell_type": "code",
   "source": [
    "lista_1 = [1, 2, 3]\n",
    "lista_2 = ['a', 'b', 'c']\n",
    "\n",
    "lista_final = [item for pair in zip(lista_1, lista_2) for item in pair]\n",
    "\n",
    "print(lista_final)"
   ],
   "metadata": {
    "id": "xZRhxyFWbITy",
    "ExecuteTime": {
     "end_time": "2024-10-17T22:34:00.696837Z",
     "start_time": "2024-10-17T22:34:00.691157Z"
    }
   },
   "outputs": [
    {
     "name": "stdout",
     "output_type": "stream",
     "text": [
      "[1, 'a', 2, 'b', 3, 'c']\n"
     ]
    }
   ],
   "execution_count": 28
  },
  {
   "cell_type": "markdown",
   "source": [
    "### **Exercício: Encontrar elementos comuns entre duas listas**\n",
    "\n",
    "**Problema:** Dadas duas listas de números, crie uma nova lista que contenha apenas os elementos que aparecem em ambas as listas.\n"
   ],
   "metadata": {
    "id": "rm9kMqneFnB-"
   }
  },
  {
   "cell_type": "code",
   "source": [
    "lista_1 = [1, 2, 3, 'a']\n",
    "lista_2 = ['a', 'b', 'c', 3]\n",
    "\n",
    "intersecao = set(lista_1).intersection(lista_2)\n",
    "print(intersecao)"
   ],
   "metadata": {
    "id": "IrH0aDTNFqu3",
    "ExecuteTime": {
     "end_time": "2024-10-17T22:38:30.040076Z",
     "start_time": "2024-10-17T22:38:30.035260Z"
    }
   },
   "outputs": [
    {
     "name": "stdout",
     "output_type": "stream",
     "text": [
      "{3, 'a'}\n"
     ]
    }
   ],
   "execution_count": 32
  },
  {
   "cell_type": "markdown",
   "source": [
    "### **Exercício: Remover elementos de uma lista que também estão em outra**\n",
    "\n",
    "**Problema:** Dadas duas listas, remova os elementos da primeira lista que também estão presentes na segunda lista.\n"
   ],
   "metadata": {
    "id": "tDsGvV-RFhOU"
   }
  },
  {
   "cell_type": "code",
   "source": [
    "lista_1 = [1, 2, 3, 'a']\n",
    "lista_2 = ['a', 'b', 'c', 3]\n",
    "\n",
    "intersecao = set(lista_1).intersection(lista_2)\n",
    "lista_final = [item for item in lista_1 if item not in intersecao]\n",
    "print(lista_final)"
   ],
   "metadata": {
    "id": "VfnETDlBFgWN",
    "ExecuteTime": {
     "end_time": "2024-10-17T22:40:48.704910Z",
     "start_time": "2024-10-17T22:40:48.698981Z"
    }
   },
   "outputs": [
    {
     "name": "stdout",
     "output_type": "stream",
     "text": [
      "[1, 2]\n"
     ]
    }
   ],
   "execution_count": 35
  },
  {
   "cell_type": "markdown",
   "source": [
    "### **Exercício: Rotacionar uma lista**\n",
    "Escreva uma função que rotacione os elementos de uma lista para a esquerda por uma quantidade dada. Por exemplo, se a lista for `[1, 2, 3, 4, 5]` e a rotação for 2, o resultado deve ser `[3, 4, 5, 1, 2]`."
   ],
   "metadata": {
    "id": "bsDW4znBbWOe"
   }
  },
  {
   "cell_type": "code",
   "source": [
    "def rotnacionar_lista(lista, rotacao):\n",
    "    return lista[rotacao:] + lista[:rotacao]\n",
    "\n",
    "lista_1 = [1, 2, 3, 4, 5]\n",
    "rotacao = 3\n",
    "\n",
    "print(rotnacionar_lista(lista_1, rotacao))\n",
    "print(sorted(rotnacionar_lista(lista_1, rotacao)))"
   ],
   "metadata": {
    "id": "rrEHFCecbbk1",
    "ExecuteTime": {
     "end_time": "2024-10-17T23:33:33.738845Z",
     "start_time": "2024-10-17T23:33:33.732869Z"
    }
   },
   "outputs": [
    {
     "name": "stdout",
     "output_type": "stream",
     "text": [
      "[4, 5, 1, 2, 3]\n",
      "[1, 2, 3, 4, 5]\n"
     ]
    }
   ],
   "execution_count": 105
  },
  {
   "cell_type": "markdown",
   "source": [
    "# **Utilizando compreensão de listas**"
   ],
   "metadata": {
    "id": "ez8N7LldFX1i"
   }
  },
  {
   "cell_type": "markdown",
   "source": [
    "### **Exercício: Converter Celsius para Fahrenheit**\n",
    "\n",
    "**Problema:** Dada uma lista de temperaturas em graus Celsius, converta-as para Fahrenheit. A fórmula de conversão é:\n",
    "\n",
    "* F = C * (9/5) + 32\n"
   ],
   "metadata": {
    "id": "YVzgzysrDhXe"
   }
  },
  {
   "cell_type": "code",
   "source": [
    "celsius = [-10, 3, 15, 43, 100]\n",
    "\n",
    "fahrenheit = [i * 9/5 + 32 for i in celsius]\n",
    "\n",
    "print(fahrenheit)"
   ],
   "metadata": {
    "id": "F_sHa67vDnob",
    "ExecuteTime": {
     "end_time": "2024-10-17T23:02:26.772726Z",
     "start_time": "2024-10-17T23:02:26.766791Z"
    }
   },
   "outputs": [
    {
     "name": "stdout",
     "output_type": "stream",
     "text": [
      "[14.0, 37.4, 59.0, 109.4, 212.0]\n"
     ]
    }
   ],
   "execution_count": 97
  },
  {
   "cell_type": "markdown",
   "source": [
    "### **Exercício: Filtrar strings que começam com uma vogal**\n",
    "\n",
    "**Problema:** Dada uma lista de palavras, crie uma nova lista contendo apenas as palavras que começam com uma vogal (a, e, i, o, u).\n"
   ],
   "metadata": {
    "id": "4vSvDAiuEVdJ"
   }
  },
  {
   "cell_type": "code",
   "source": [
    "vogais = ['a', 'e', 'i', 'o', 'u']\n",
    "palavras = ['Abelha', 'Machado', 'Elefante', 'Morango', 'Iterator', 'Orantango', 'Ubuntu', 'Lotus', 'Teste']\n",
    "\n",
    "print([palavra for palavra in palavras for vogal in vogais if palavra.lower().startswith(vogal)])"
   ],
   "metadata": {
    "id": "qDkk_2VeEY_p",
    "ExecuteTime": {
     "end_time": "2024-10-18T01:00:08.123528Z",
     "start_time": "2024-10-18T01:00:08.118559Z"
    }
   },
   "outputs": [
    {
     "name": "stdout",
     "output_type": "stream",
     "text": [
      "['Abelha', 'Elefante', 'Iterator', 'Orantango', 'Ubuntu']\n"
     ]
    }
   ],
   "execution_count": 107
  },
  {
   "metadata": {
    "ExecuteTime": {
     "end_time": "2024-10-23T17:55:33.336408Z",
     "start_time": "2024-10-23T17:55:33.332199Z"
    }
   },
   "cell_type": "code",
   "source": [
    "lista_teste = [1, 2, 3, 4, 5]\n",
    "lista_teste_2 = [1, 2, 4]\n",
    "teste = [(item, teste) for item in lista_teste for teste in lista_teste]\n",
    "print(teste)\n"
   ],
   "outputs": [
    {
     "name": "stdout",
     "output_type": "stream",
     "text": [
      "[(1, 1), (1, 2), (1, 3), (1, 4), (1, 5), (2, 1), (2, 2), (2, 3), (2, 4), (2, 5), (3, 1), (3, 2), (3, 3), (3, 4), (3, 5), (4, 1), (4, 2), (4, 3), (4, 4), (4, 5), (5, 1), (5, 2), (5, 3), (5, 4), (5, 5)]\n",
      "<class 'dict'>\n"
     ]
    }
   ],
   "execution_count": 37
  },
  {
   "metadata": {},
   "cell_type": "markdown",
   "source": "### Generators"
  },
  {
   "metadata": {
    "ExecuteTime": {
     "end_time": "2024-10-23T18:01:25.583803Z",
     "start_time": "2024-10-23T18:01:25.578948Z"
    }
   },
   "cell_type": "code",
   "source": [
    "lista_4 = (item for item in lista_teste)\n",
    "\n",
    "for i in lista_4:\n",
    "    print(i)\n"
   ],
   "outputs": [
    {
     "name": "stdout",
     "output_type": "stream",
     "text": [
      "1\n"
     ]
    }
   ],
   "execution_count": 51
  },
  {
   "metadata": {},
   "cell_type": "markdown",
   "source": "### Itertools"
  },
  {
   "metadata": {
    "ExecuteTime": {
     "end_time": "2024-10-23T18:28:51.795422Z",
     "start_time": "2024-10-23T18:28:51.792019Z"
    }
   },
   "cell_type": "code",
   "source": [
    "import itertools\n",
    "\n",
    "itertools_list = itertools.chain(lista_teste, lista_4)\n",
    "\n",
    "print(itertools_list)"
   ],
   "outputs": [
    {
     "name": "stdout",
     "output_type": "stream",
     "text": [
      "<itertools.chain object at 0x0000023E0B491B70>\n"
     ]
    }
   ],
   "execution_count": 54
  },
  {
   "metadata": {
    "ExecuteTime": {
     "end_time": "2024-10-23T18:36:45.796699Z",
     "start_time": "2024-10-23T18:36:45.789286Z"
    }
   },
   "cell_type": "code",
   "source": [
    "itertools_list = itertools.combinations_with_replacement(lista_teste, 5)\n",
    "#itertools_list = itertools.permutations(lista_teste, 5)\n",
    "#itertools_list = itertools.combinations(lista_teste, 5)\n",
    "\n",
    "print(lista_teste)\n",
    "\n",
    "for item in itertools_list:\n",
    "    print(item)"
   ],
   "outputs": [
    {
     "name": "stdout",
     "output_type": "stream",
     "text": [
      "[1, 2, 3, 4, 5]\n",
      "(1, 1, 1, 1, 1)\n",
      "(1, 1, 1, 1, 2)\n",
      "(1, 1, 1, 1, 3)\n",
      "(1, 1, 1, 1, 4)\n",
      "(1, 1, 1, 1, 5)\n",
      "(1, 1, 1, 2, 2)\n",
      "(1, 1, 1, 2, 3)\n",
      "(1, 1, 1, 2, 4)\n",
      "(1, 1, 1, 2, 5)\n",
      "(1, 1, 1, 3, 3)\n",
      "(1, 1, 1, 3, 4)\n",
      "(1, 1, 1, 3, 5)\n",
      "(1, 1, 1, 4, 4)\n",
      "(1, 1, 1, 4, 5)\n",
      "(1, 1, 1, 5, 5)\n",
      "(1, 1, 2, 2, 2)\n",
      "(1, 1, 2, 2, 3)\n",
      "(1, 1, 2, 2, 4)\n",
      "(1, 1, 2, 2, 5)\n",
      "(1, 1, 2, 3, 3)\n",
      "(1, 1, 2, 3, 4)\n",
      "(1, 1, 2, 3, 5)\n",
      "(1, 1, 2, 4, 4)\n",
      "(1, 1, 2, 4, 5)\n",
      "(1, 1, 2, 5, 5)\n",
      "(1, 1, 3, 3, 3)\n",
      "(1, 1, 3, 3, 4)\n",
      "(1, 1, 3, 3, 5)\n",
      "(1, 1, 3, 4, 4)\n",
      "(1, 1, 3, 4, 5)\n",
      "(1, 1, 3, 5, 5)\n",
      "(1, 1, 4, 4, 4)\n",
      "(1, 1, 4, 4, 5)\n",
      "(1, 1, 4, 5, 5)\n",
      "(1, 1, 5, 5, 5)\n",
      "(1, 2, 2, 2, 2)\n",
      "(1, 2, 2, 2, 3)\n",
      "(1, 2, 2, 2, 4)\n",
      "(1, 2, 2, 2, 5)\n",
      "(1, 2, 2, 3, 3)\n",
      "(1, 2, 2, 3, 4)\n",
      "(1, 2, 2, 3, 5)\n",
      "(1, 2, 2, 4, 4)\n",
      "(1, 2, 2, 4, 5)\n",
      "(1, 2, 2, 5, 5)\n",
      "(1, 2, 3, 3, 3)\n",
      "(1, 2, 3, 3, 4)\n",
      "(1, 2, 3, 3, 5)\n",
      "(1, 2, 3, 4, 4)\n",
      "(1, 2, 3, 4, 5)\n",
      "(1, 2, 3, 5, 5)\n",
      "(1, 2, 4, 4, 4)\n",
      "(1, 2, 4, 4, 5)\n",
      "(1, 2, 4, 5, 5)\n",
      "(1, 2, 5, 5, 5)\n",
      "(1, 3, 3, 3, 3)\n",
      "(1, 3, 3, 3, 4)\n",
      "(1, 3, 3, 3, 5)\n",
      "(1, 3, 3, 4, 4)\n",
      "(1, 3, 3, 4, 5)\n",
      "(1, 3, 3, 5, 5)\n",
      "(1, 3, 4, 4, 4)\n",
      "(1, 3, 4, 4, 5)\n",
      "(1, 3, 4, 5, 5)\n",
      "(1, 3, 5, 5, 5)\n",
      "(1, 4, 4, 4, 4)\n",
      "(1, 4, 4, 4, 5)\n",
      "(1, 4, 4, 5, 5)\n",
      "(1, 4, 5, 5, 5)\n",
      "(1, 5, 5, 5, 5)\n",
      "(2, 2, 2, 2, 2)\n",
      "(2, 2, 2, 2, 3)\n",
      "(2, 2, 2, 2, 4)\n",
      "(2, 2, 2, 2, 5)\n",
      "(2, 2, 2, 3, 3)\n",
      "(2, 2, 2, 3, 4)\n",
      "(2, 2, 2, 3, 5)\n",
      "(2, 2, 2, 4, 4)\n",
      "(2, 2, 2, 4, 5)\n",
      "(2, 2, 2, 5, 5)\n",
      "(2, 2, 3, 3, 3)\n",
      "(2, 2, 3, 3, 4)\n",
      "(2, 2, 3, 3, 5)\n",
      "(2, 2, 3, 4, 4)\n",
      "(2, 2, 3, 4, 5)\n",
      "(2, 2, 3, 5, 5)\n",
      "(2, 2, 4, 4, 4)\n",
      "(2, 2, 4, 4, 5)\n",
      "(2, 2, 4, 5, 5)\n",
      "(2, 2, 5, 5, 5)\n",
      "(2, 3, 3, 3, 3)\n",
      "(2, 3, 3, 3, 4)\n",
      "(2, 3, 3, 3, 5)\n",
      "(2, 3, 3, 4, 4)\n",
      "(2, 3, 3, 4, 5)\n",
      "(2, 3, 3, 5, 5)\n",
      "(2, 3, 4, 4, 4)\n",
      "(2, 3, 4, 4, 5)\n",
      "(2, 3, 4, 5, 5)\n",
      "(2, 3, 5, 5, 5)\n",
      "(2, 4, 4, 4, 4)\n",
      "(2, 4, 4, 4, 5)\n",
      "(2, 4, 4, 5, 5)\n",
      "(2, 4, 5, 5, 5)\n",
      "(2, 5, 5, 5, 5)\n",
      "(3, 3, 3, 3, 3)\n",
      "(3, 3, 3, 3, 4)\n",
      "(3, 3, 3, 3, 5)\n",
      "(3, 3, 3, 4, 4)\n",
      "(3, 3, 3, 4, 5)\n",
      "(3, 3, 3, 5, 5)\n",
      "(3, 3, 4, 4, 4)\n",
      "(3, 3, 4, 4, 5)\n",
      "(3, 3, 4, 5, 5)\n",
      "(3, 3, 5, 5, 5)\n",
      "(3, 4, 4, 4, 4)\n",
      "(3, 4, 4, 4, 5)\n",
      "(3, 4, 4, 5, 5)\n",
      "(3, 4, 5, 5, 5)\n",
      "(3, 5, 5, 5, 5)\n",
      "(4, 4, 4, 4, 4)\n",
      "(4, 4, 4, 4, 5)\n",
      "(4, 4, 4, 5, 5)\n",
      "(4, 4, 5, 5, 5)\n",
      "(4, 5, 5, 5, 5)\n",
      "(5, 5, 5, 5, 5)\n"
     ]
    }
   ],
   "execution_count": 73
  },
  {
   "metadata": {},
   "cell_type": "markdown",
   "source": "#### Itertools Islice"
  },
  {
   "metadata": {
    "ExecuteTime": {
     "end_time": "2024-10-23T18:39:27.243655Z",
     "start_time": "2024-10-23T18:39:27.239561Z"
    }
   },
   "cell_type": "code",
   "source": [
    "for item in itertools.islice([1, 2, 3, 4, 5], 2, 4):\n",
    "    print(item)"
   ],
   "outputs": [
    {
     "name": "stdout",
     "output_type": "stream",
     "text": [
      "3\n",
      "4\n"
     ]
    }
   ],
   "execution_count": 75
  }
 ]
}
