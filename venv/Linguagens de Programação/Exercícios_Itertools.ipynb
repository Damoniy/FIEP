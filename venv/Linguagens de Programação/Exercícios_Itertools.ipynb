{
 "nbformat": 4,
 "nbformat_minor": 0,
 "metadata": {
  "colab": {
   "provenance": []
  },
  "kernelspec": {
   "name": "python3",
   "display_name": "Python 3 (ipykernel)",
   "language": "python"
  },
  "language_info": {
   "name": "python"
  }
 },
 "cells": [
  {
   "cell_type": "markdown",
   "source": [
    "## Resolver os seguintes exercícios com listas e com itertools:"
   ],
   "metadata": {
    "id": "VjjYoLNMS9mJ"
   }
  },
  {
   "cell_type": "markdown",
   "source": [
    "#### **Exercício: Combinando Listas de Comprimentos Diferentes**\n",
    "Dado duas listas de tamanhos diferentes, crie uma nova lista combinando seus elementos. Se uma lista for mais curta, preencha com `None`.\n",
    "\n"
   ],
   "metadata": {
    "id": "P6AHtySuuXrK"
   }
  },
  {
   "cell_type": "code",
   "source": [
    "#### Sem `itertools`\n",
    "lista1 = [1, 2, 3]\n",
    "lista2 = ['a', 'b', 'c', 'd', 'e']\n",
    "\n",
    "size = 0\n",
    "\n",
    "if len(lista1) > len(lista2):\n",
    "    size = len(lista1)\n",
    "else: \n",
    "    size = len(lista2)\n",
    "\n",
    "def tuple_default(index):\n",
    "    try:\n",
    "        return lista1[index], lista2[index]\n",
    "    except:\n",
    "        try:\n",
    "            return lista1[index], None\n",
    "        except:\n",
    "            return None, lista2[index]\n",
    "\n",
    "resultado = [print(tuple_default(index)) for index in range(size)]"
   ],
   "metadata": {
    "id": "wd4TBMsQ7pXw",
    "ExecuteTime": {
     "end_time": "2024-10-23T19:34:14.239198Z",
     "start_time": "2024-10-23T19:34:14.233293Z"
    }
   },
   "outputs": [
    {
     "name": "stdout",
     "output_type": "stream",
     "text": [
      "(1, 'a')\n",
      "(2, 'b')\n",
      "(3, 'c')\n",
      "(None, 'd')\n",
      "(None, 'e')\n"
     ]
    }
   ],
   "execution_count": 24
  },
  {
   "cell_type": "code",
   "source": [
    "#### Com `itertools`:\n",
    "import itertools\n",
    "\n",
    "lista1 = [1, 2, 3]\n",
    "lista2 = ['a', 'b']\n",
    "\n",
    "for item in itertools.zip_longest(lista1, lista2):\n",
    "    print(item)\n"
   ],
   "metadata": {
    "id": "ANsKcM-9uRkT",
    "ExecuteTime": {
     "end_time": "2024-10-23T19:38:15.419590Z",
     "start_time": "2024-10-23T19:38:15.414564Z"
    }
   },
   "outputs": [
    {
     "name": "stdout",
     "output_type": "stream",
     "text": [
      "(1, 'a')\n",
      "(2, 'b')\n",
      "(3, None)\n"
     ]
    }
   ],
   "execution_count": 25
  },
  {
   "cell_type": "markdown",
   "source": [
    "### **Exercício: Geração de Combinações**\n",
    "- Dada uma lista, gere todas as combinações possíveis de dois elementos.\n",
    "- `itertools.combinations()` elimina a necessidade de manipulação manual de índices e laços aninhados, oferecendo uma maneira mais direta de gerar combinações."
   ],
   "metadata": {
    "id": "L7mXcRX2uQ7P"
   }
  },
  {
   "cell_type": "code",
   "source": [
    "#### Sem `itertools`\n",
    "lista = [1, 2, 3]\n",
    "combinacoes = []\n",
    "\n",
    "for i, j in zip(range(4), range(3)):\n",
    "    print(i, j)"
   ],
   "metadata": {
    "id": "ClY-Gt8a7nQy",
    "ExecuteTime": {
     "end_time": "2024-10-23T19:56:09.750466Z",
     "start_time": "2024-10-23T19:56:09.745994Z"
    }
   },
   "outputs": [
    {
     "name": "stdout",
     "output_type": "stream",
     "text": [
      "0 0\n",
      "1 1\n",
      "2 2\n"
     ]
    }
   ],
   "execution_count": 34
  },
  {
   "cell_type": "code",
   "source": [
    "#### Com `itertools.combinations()`:\n",
    "import itertools\n",
    "\n",
    "lista = [1, 2, 3, 4, 5]\n",
    "\n",
    "print(len(lista))\n",
    "\n",
    "for item in itertools.combinations(lista, 2):\n",
    "    print(item)\n"
   ],
   "metadata": {
    "id": "56rb_-Vhu00z",
    "ExecuteTime": {
     "end_time": "2024-10-23T19:54:07.369905Z",
     "start_time": "2024-10-23T19:54:07.365545Z"
    }
   },
   "outputs": [
    {
     "name": "stdout",
     "output_type": "stream",
     "text": [
      "5\n"
     ]
    }
   ],
   "execution_count": 31
  },
  {
   "cell_type": "markdown",
   "source": [
    "### **Exercício: Iterando sobre Múltiplos Iteráveis ao Mesmo Tempo**\n",
    "- Dado duas listas, itere sobre elas simultaneamente, parando quando a menor lista acabar.\n",
    "- `itertools.zip_longest()` oferece mais flexibilidade ao lidar com listas de tamanhos diferentes, enquanto o `zip()` padrão só combina até o tamanho da lista menor.\n"
   ],
   "metadata": {
    "id": "-wPwR563vo0P"
   }
  },
  {
   "cell_type": "code",
   "source": [
    "#### Sem `itertools` :\n",
    "lista1 = [1, 2, 3]\n",
    "lista2 = ['a', 'b']\n",
    "resultado = []\n"
   ],
   "metadata": {
    "id": "i-q00Gxc7k60"
   },
   "execution_count": null,
   "outputs": []
  },
  {
   "cell_type": "code",
   "source": [
    "#### Com `itertools.zip_longest()`:\n",
    "import itertools\n",
    "\n",
    "lista1 = [1, 2, 3]\n",
    "lista2 = ['a', 'b']\n",
    "\n",
    "\n"
   ],
   "metadata": {
    "id": "EWbaKD2yvuIV"
   },
   "execution_count": null,
   "outputs": []
  },
  {
   "cell_type": "markdown",
   "source": [
    "### **Exercício: Concatenar listas**"
   ],
   "metadata": {
    "id": "3wH63qUFws1t"
   }
  },
  {
   "cell_type": "code",
   "source": [
    "# Sem itertools\n",
    "l1 = [1, 2, 3]\n",
    "l2 = ['a', 'b', 'c']\n",
    "l3 = [10, 'a', [100,200]]\n"
   ],
   "metadata": {
    "id": "3b3IcA-j7Zf6"
   },
   "execution_count": null,
   "outputs": []
  },
  {
   "cell_type": "code",
   "source": [
    "# Com itertools\n",
    "import itertools\n",
    "\n",
    "l1 = [1, 2, 3]\n",
    "l2 = ['a', 'b', 'c']\n",
    "l3 = [10, 'a', [100,200]]\n",
    "\n"
   ],
   "metadata": {
    "id": "5gD6hsC0wzIT"
   },
   "execution_count": null,
   "outputs": []
  }
 ]
}
